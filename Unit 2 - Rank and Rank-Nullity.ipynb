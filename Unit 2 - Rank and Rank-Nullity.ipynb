{
 "cells": [
  {
   "cell_type": "markdown",
   "metadata": {},
   "source": [
    "### Example:\n",
    "\n",
    "**A** is the 3 x 5 matrix:\n",
    "\n",
    "$$\\displaystyle \\begin{pmatrix}  1 &  2 &  3 &  4 &  5 \\\\ -1 &  -2 &  9 &  10 &  11 \\\\ 1 &  2 &  9 &  11 &  13 \\\\ \\end{pmatrix}.$$\n",
    "\n",
    "Find a basis for **CS(A)**, and **dim NS(A)** and **dim CS(A)**\n",
    "\n",
    "The row echelon form of **A** is:\n",
    "\n",
    "$$\\mathbf{B} =\\begin{pmatrix}  {\\color{orange}{1}}  &  2 &  3 &  4 &  5 \\\\ 0 &  0 &  {\\color{orange}{12}}  &  14 &  16 \\\\ 0 &  0 &  0 &  0 &  0 \\\\ \\end{pmatrix}.$$\n",
    "\n",
    "The basis of **CS(A)** are the first and third columns of **A**, since they correspond to the pivot columns of the row echelon form. \n",
    "\n",
    "$$\\text{Basis for} \\ \\mathrm{CS}\\mathbf{(A)}\\colon \\ \\begin{pmatrix} 1 \\\\ -1 \\\\ 1 \\end{pmatrix} ,\\begin{pmatrix} 3 \\\\ 9 \\\\ 9 \\end{pmatrix}$$\n",
    "\n",
    "$$\\displaystyle \\dim \\mathrm{NS}(\\mathbf{A}) = \\#  \\, \\, \\text {non-pivot columns of } \\mathbf{B}= 3.$$\n",
    "\n",
    "$$\\displaystyle \\dim \\mathrm{CS}(\\mathbf{A}) = \\#  \\, \\,  \\text {pivot columns of } \\mathbf{B}= 2.$$\n",
    "\n",
    "The <font color=\"blue\">nullity</font> of **A** is *defined* as the number\n",
    "\n",
    "$$\\mathrm{nullity}(\\mathbf{A}) = \\dim \\mathrm{NS}(\\mathbf{A}).$$\n",
    "\n",
    "The <font color=\"blue\">rank</font> of **A** is *defined* as the number\n",
    "\n",
    "$$\\mathrm{rank}(\\mathbf{A}) = \\dim \\mathrm{CS}(\\mathbf{A}).$$"
   ]
  },
  {
   "cell_type": "markdown",
   "metadata": {},
   "source": [
    "### Rank-nullity theorem:\n",
    "\n",
    "For any m x n matrix **A**: \n",
    "\n",
    "$$ { \\mathrm{nullity}(\\mathbf{A}) + \\mathrm{rank}(\\mathbf{A}) = n. }$$"
   ]
  },
  {
   "cell_type": "markdown",
   "metadata": {},
   "source": [
    "### Algorithm: Computing a basis for $\\mathrm{Span}(v_1, \\dotsc, v_n)$\n",
    "\n",
    "1. Create a matrix **A** whose columns are $v_1, \\dotsc , v_n$.\n",
    "\n",
    "2. Find a basis for **CS(A)** (as described above, using row echelon form)\n",
    "\n",
    "\n",
    "**Example:**\n",
    "\n",
    "Consider the matrix $\\mathrm{A} = \\begin{pmatrix} 1 & 1 & 2 \\\\ 2 & 1 & 3 \\\\ 3 & 1 & 4 \\\\ 4 & 1 & 5 \\end{pmatrix}$. \n",
    "\n",
    "Its column space is a subspace of $\\mathbb{R}^4$"
   ]
  },
  {
   "cell_type": "code",
   "execution_count": 14,
   "metadata": {},
   "outputs": [
    {
     "name": "stdout",
     "output_type": "stream",
     "text": [
      "The rank of A is 2\n"
     ]
    }
   ],
   "source": [
    "using RowEchelon\n",
    "A = [1 1 2; \n",
    "    2 1 3; \n",
    "    3 1 4;\n",
    "    4 1 5]\n",
    "(rref(A))\n",
    "println(\"The rank of A is $(rank(A))\")\n"
   ]
  },
  {
   "cell_type": "markdown",
   "metadata": {},
   "source": [
    "The column space CS(A) is made of all the linear combinations of the matrice's columns. \n",
    "\n",
    "### Does **Ax = b** have a solution for every **b**?\n",
    "\n",
    "***No***. But it does have a solution for some. "
   ]
  },
  {
   "cell_type": "code",
   "execution_count": 17,
   "metadata": {},
   "outputs": [
    {
     "data": {
      "text/plain": [
       "3-element Array{Float64,1}:\n",
       " -0.0\n",
       "  0.0\n",
       "  0.0"
      ]
     },
     "execution_count": 17,
     "metadata": {},
     "output_type": "execute_result"
    }
   ],
   "source": [
    "b = [0;\n",
    "     0;\n",
    "     0;\n",
    "     0;]\n",
    "A\\b"
   ]
  },
  {
   "cell_type": "code",
   "execution_count": 24,
   "metadata": {},
   "outputs": [
    {
     "name": "stdout",
     "output_type": "stream",
     "text": [
      "[0.666667, -0.333333, 0.333333]\n",
      "[-0.333333, 0.666667, 0.333333]\n"
     ]
    }
   ],
   "source": [
    "b = [1; 2; 3; 4]\n",
    "println(A\\b)\n",
    "b = [1; 1; 1; 1]\n",
    "println(A\\b)\n",
    "# Interesting that it doesn't just find the [1; 0; 0] and [0; 1; 0]"
   ]
  },
  {
   "cell_type": "markdown",
   "metadata": {},
   "source": [
    "But how do we formalize this?\n",
    "\n",
    "Consider the equation\n",
    "\n",
    "$$\\mathbf{A}\\mathbf{x}= \\begin{pmatrix}  1 &  1 &  2\\\\ 2 &  1 &  3\\\\ 3 &  1 &  4\\\\ 4 &  1 &  5 \\end{pmatrix}\\begin{pmatrix}  x_1 \\\\ x_2 \\\\ x_3 \\end{pmatrix} = \\begin{pmatrix}  b_1\\\\ b_2 \\\\ b_3 \\\\ b_4 \\end{pmatrix} = \\mathbf{b}.$$\n",
    "\n",
    "Recall that we can think of matrix-vector multiplication as a linear combination of the matrice's columns. We can thus rewrite the system $Ax=b$ as \n",
    "\n",
    "$$x_1 \\begin{pmatrix}  1\\\\ 2\\\\ 3\\\\ 4\\end{pmatrix} + x_2\\begin{pmatrix}  1\\\\ 1\\\\ 1\\\\ 1\\end{pmatrix}+x_3\\begin{pmatrix} 2\\\\ 3\\\\ 4\\\\ 5\\end{pmatrix} = \\mathbf{b}.$$\n",
    "\n",
    "We can find $x_1, x_2, x_3$ iff **b** is a linear combination of the columns of **A**, i.e. if it's in the column space! \n",
    "\n",
    "Thus: <font color=\"blue\">The linear system $\\mathbf{A}\\mathbf{x}= \\mathbf{b}$ has a solution iff $\\mathbf{b}$ is in $\\mathrm{CS}(\\mathbf{A})$</font>\n",
    "\n"
   ]
  },
  {
   "cell_type": "code",
   "execution_count": null,
   "metadata": {},
   "outputs": [],
   "source": []
  }
 ],
 "metadata": {
  "kernelspec": {
   "display_name": "Julia 0.6.2",
   "language": "julia",
   "name": "julia-0.6"
  },
  "language_info": {
   "file_extension": ".jl",
   "mimetype": "application/julia",
   "name": "julia",
   "version": "0.6.2"
  }
 },
 "nbformat": 4,
 "nbformat_minor": 2
}
