{
 "cells": [
  {
   "cell_type": "markdown",
   "metadata": {},
   "source": [
    "Imagine a matrix $\\mathbf A $ that represents a function from $\\mathbb{R}^3$ to $\\mathbb{R}^3$ that projects all of $\\mathbb{R}^3$ to the xy-plane:\n",
    "\n",
    "$$\\mathbf{f}\\begin{pmatrix}  x \\\\ y \\\\ z \\end{pmatrix} = \\begin{pmatrix}  x \\\\ y \\\\ 0 \\end{pmatrix}$$"
   ]
  },
  {
   "cell_type": "markdown",
   "metadata": {},
   "source": [
    "The matrix $\\mathbf A$ is clearly \n",
    "\n",
    "$$\\mathbf{A}= \\begin{pmatrix}  1 &  0 &  0 \\\\ 0 &  1 &  0 \\\\ 0 &  0 &  0 \\end{pmatrix}$$\n",
    "\n",
    "If $x,y=0$ then any vector $\\begin{pmatrix} 0 \\\\ 0 \\\\ z \\end{pmatrix}$ is projected to the zero vector, i.e. the entire $z$-axis is the zero vector.\n",
    "\n",
    "<img src=\"https://prod-edxapp.edx-cdn.org/assets/courseware/v1/cd0402a7a7c886394df98bd37d30d6f4/asset-v1:MITx+18.033x+1T2018+type@asset+block/images_projection033.svg\">\n",
    "\n",
    "The nullspace $\\mathrm{NS}(\\mathbf{A})$ is a subspace of the **input** space, so it can also be thought of as $\\displaystyle  \\{ (0,0,z) : z \\in \\mathbb {R}\\}$\n",
    "\n",
    "The ***image*** or ***range*** **b** of **f** are all vectors $\\mathbf{f(x)}$, here:\n",
    "\n",
    "$$\\displaystyle  \\text {Image of } \\mathbf{f}(x,y,z) \\ = \\ \\displaystyle  \\{ (x,y,0) : x,y \\in \\mathbb {R}\\}$$\n",
    "\n",
    "i.e. the xy-plane of the output space $\\mathbb{R}^3$\n",
    "\n",
    "This is also the set of all vectors **b** that can be written as **Ax**, i.e. all linear combinations of the columns of A. Thus the set **b = Ax** is the same as the span of the columns of A. This is called the <font color=\"blue\">**column space** CS(A)</font>. It is a subspace of the **output space**"
   ]
  },
  {
   "cell_type": "markdown",
   "metadata": {},
   "source": [
    "### Definition: \n",
    "\n",
    "The **column space** of a matrix **A** is the span of its columns. Notated as **CS(A)**. It is also called the **image** of A, and written **Im(A)**\n",
    "\n",
    "As **CS(A)** is a span, it is of course a vector space. \n",
    "\n",
    "E.g. the matrix $A = \\begin{pmatrix} 1 & 2 & 3 \\\\ 2 & 4 & 6 \\end{pmatrix}$. Its column space is given by:\n",
    "\n",
    "$$ \\mathrm{CS(A)} = \\text{the span of} \\ \\begin{pmatrix} 1 \\\\ 2 \\end{pmatrix} , \\begin{pmatrix} 2 \\\\ 4 \\end{pmatrix} , \\begin{pmatrix} 3 \\\\ 6 \\end{pmatrix}$$\n",
    "\n",
    "e.g. Find a basis for the column space of matrix:\n",
    "\n",
    "\n",
    "$$\\displaystyle  \\mathbf{A}= \\begin{pmatrix}  1 &  2 &  3 \\\\ -1 &  -2 &  -3 \\\\ 1 &  2 &  3 \\\\ 0 &  0 &  9 \\end{pmatrix}.$$\n",
    "\n",
    "The column space is defined as $\\mathrm{Span}\\left(\\begin{pmatrix}  1 \\\\ -1 \\\\ 1 \\\\ 0\\end{pmatrix}, \\begin{pmatrix}  2 \\\\ -2 \\\\ 2 \\\\ 0\\end{pmatrix}, \\begin{pmatrix}  3 \\\\ -3 \\\\ 3 \\\\ 9\\end{pmatrix} \\right)$.\n",
    "\n",
    "We can see the second vector is twice the first vector, and thus redundant. Therefore:\n",
    "\n",
    "\n",
    "$$\\mathrm{CS}(\\mathbf{A}) = \\mathrm{Span}\\left(\\begin{pmatrix}  1 \\\\ -1 \\\\ 1 \\\\ 0\\end{pmatrix}, \\begin{pmatrix}  3 \\\\ -3 \\\\ 3 \\\\ 9\\end{pmatrix} \\right).$$"
   ]
  },
  {
   "cell_type": "markdown",
   "metadata": {},
   "source": [
    "To compute a basis for **CS(A)**, we perform gaussian elimination to convert **A** to row echelon form and find the pivot columns. These constitute a basis for **CS(A)**\n",
    "\n",
    "$$ { \\dim \\mathrm{CS}(\\mathbf{A}) = \\#  \\text { pivot columns of } \\mathbf{B}. }$$\n",
    "\n",
    "<font color=\"orange\">**Warning:**</font> Usually $\\mathrm{CS}(\\mathbf{A}) \\ne \\mathrm{CS}(\\mathbf{B})$"
   ]
  },
  {
   "cell_type": "code",
   "execution_count": null,
   "metadata": {},
   "outputs": [],
   "source": []
  }
 ],
 "metadata": {
  "kernelspec": {
   "display_name": "Julia 0.6.2",
   "language": "julia",
   "name": "julia-0.6"
  },
  "language_info": {
   "file_extension": ".jl",
   "mimetype": "application/julia",
   "name": "julia",
   "version": "0.6.2"
  }
 },
 "nbformat": 4,
 "nbformat_minor": 2
}
