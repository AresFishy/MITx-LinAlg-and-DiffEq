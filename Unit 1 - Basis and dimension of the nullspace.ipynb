{
 "cells": [
  {
   "cell_type": "markdown",
   "metadata": {},
   "source": [
    "## The basis is the minimal set of vectors that span a space of interest, e.g. a nullspace\n",
    "\n",
    "### Definition:\n",
    "\n",
    "A <font color=\"blue\">basis</font> of a vector space $V$ is a list of vectors $\\mathbf v_1 , \\mathbf v_2 , \\dotsc$ such that \n",
    "\n",
    "1. THe vectors $\\mathbf v_1 , \\mathbf v_2 , \\dotsc$ are linearly <font color=\"orange\">independent</font>\n",
    "\n",
    "2. They span the space: $\\mathrm{Span}(\\mathbf v_1, \\mathbf v_2, \\dotsc ) = V$\n",
    "\n",
    "E.g. if $S$ is the $xy$-plane in $\\mathbb{R}^3$, then $\\begin{pmatrix} 1 \\\\ 0 \\\\ 0 \\end{pmatrix}, \\ \\begin{pmatrix} 0 \\\\ 1 \\\\ 0 \\end{pmatrix}$ is a basis for $S$"
   ]
  },
  {
   "cell_type": "markdown",
   "metadata": {},
   "source": [
    "This is very mildly unintuitive. For example, the vectors $\\begin{pmatrix} 1 \\\\ 1\\end{pmatrix}$ and $\\begin{pmatrix} -1 \\\\ 1\\end{pmatrix}$ form a basis for $\\mathbb{R}^2$ since they are independent and **have the same span as ** $\\begin{pmatrix} 1 \\\\ 0\\end{pmatrix}$ and $\\begin{pmatrix} 0 \\\\ 1\\end{pmatrix}$. \n",
    "\n",
    "I.e. the two vectors can span all of $\\mathbb{R}^2$. "
   ]
  },
  {
   "cell_type": "markdown",
   "metadata": {},
   "source": [
    "Furthermore, <font color=\"green\">having the same span does not make them unique.</font> They are not linear combinations of $\\begin{pmatrix} 1 \\\\ 0 \\end{pmatrix}$ and $\\begin{pmatrix} 0 \\\\ 1\\end{pmatrix}$. \n",
    "\n",
    "Intuitively, *all bases for the same vector space has the same number of vectors*. That number of vectors is the <font color=\"blue\">*dimension*</font> of the space.\n",
    "\n",
    "These definitions are equivalent:\n",
    "\n",
    "The dimension of a vector space is\n",
    "1. the largest number of linearly independent vectors one can find in that vector space.\n",
    "\n",
    "2. the smallest number of vectors needed to span that vector space.\n",
    "\n",
    "3. the number of vectors in any basis of that vector space."
   ]
  },
  {
   "cell_type": "code",
   "execution_count": 1,
   "metadata": {},
   "outputs": [
    {
     "data": {
      "text/plain": [
       "3×1 Array{Float64,2}:\n",
       "  0.810085 \n",
       " -0.0276029\n",
       "  0.585662 "
      ]
     },
     "execution_count": 1,
     "metadata": {},
     "output_type": "execute_result"
    }
   ],
   "source": [
    "# Dimension concept check III\n",
    "nullspace([11 47 -13; -5 23 8])"
   ]
  },
  {
   "cell_type": "markdown",
   "metadata": {},
   "source": [
    "Since the nullspace has at least one non-zero element, that means the three vectors are dependent"
   ]
  },
  {
   "cell_type": "markdown",
   "metadata": {},
   "source": [
    "#### Application to finding solutions\n",
    "We can use the concept of bases to get the space of solutions to homogeneous linear systems. \n",
    "\n",
    "E.g. if a system has a solution of the form $X = c1v1 + c2v2$, where $c1, \\ c2$ are parameters, the set of all solutions is $\\mathrm{Span} \\left( v1, \\ v2 \\right)$"
   ]
  },
  {
   "cell_type": "markdown",
   "metadata": {},
   "source": [
    "Furthermore, the matrices we find will <font color=\"orange\">*always be independent*</font>. "
   ]
  },
  {
   "cell_type": "markdown",
   "metadata": {},
   "source": [
    "**Remark** \n",
    "\n",
    "If we only care about the dimension of the nullspace, we can find it as being the number of free parameters. "
   ]
  },
  {
   "cell_type": "markdown",
   "metadata": {},
   "source": [
    "### Formula for the dimension of the nullspace\n",
    "\n",
    "If we transform matrix **A** into row echelon form **B**, then $\\mathrm{NS}(\\mathbf{A}) = \\mathrm{NS}(\\mathbf{B})$, and thus\n",
    "\n",
    "$$\\dim \\mathrm{NS}( \\mathbf{A} ) = \\# \\, \\text {non-pivot columns of } \\mathbf{B}$$"
   ]
  },
  {
   "cell_type": "code",
   "execution_count": 4,
   "metadata": {},
   "outputs": [
    {
     "data": {
      "text/plain": [
       "3×1 Array{Float64,2}:\n",
       "  0.0\n",
       " -1.0\n",
       "  0.0"
      ]
     },
     "execution_count": 4,
     "metadata": {},
     "output_type": "execute_result"
    }
   ],
   "source": [
    "nullspace([1 0 1; 0 0 1])\n",
    "\n",
    "# Or, less cheaty-ly, the pivots are (1,1) and (2,3), \n",
    "# leaving (1,2) and (2,2) to make up the non-pivot column. \n",
    "# Then do back-substitution"
   ]
  },
  {
   "cell_type": "code",
   "execution_count": 5,
   "metadata": {},
   "outputs": [
    {
     "data": {
      "text/plain": [
       "3×2 Array{Float64,2}:\n",
       " 0.0  0.0\n",
       " 1.0  0.0\n",
       " 0.0  1.0"
      ]
     },
     "execution_count": 5,
     "metadata": {},
     "output_type": "execute_result"
    }
   ],
   "source": [
    "nullspace([1 0 0 ; 0 0 0])"
   ]
  },
  {
   "cell_type": "code",
   "execution_count": 6,
   "metadata": {},
   "outputs": [],
   "source": [
    "B = [0 1 3 0 0 5; 0 0 0 1 0 7; 0 0 0 0 1 9; 0 0 0 0 0 0];"
   ]
  },
  {
   "cell_type": "code",
   "execution_count": 19,
   "metadata": {},
   "outputs": [
    {
     "data": {
      "text/plain": [
       "6×3 Array{Float64,2}:\n",
       "  0.238088  -0.224029   -0.945053  \n",
       "  0.78632   -0.438558    0.302061  \n",
       " -0.183508   0.266819   -0.109482  \n",
       "  0.330113   0.506658   -0.0369399 \n",
       "  0.424431   0.651417   -0.0474941 \n",
       " -0.047159  -0.0723797   0.00527713"
      ]
     },
     "execution_count": 19,
     "metadata": {},
     "output_type": "execute_result"
    }
   ],
   "source": [
    "N = (nullspace(B))"
   ]
  },
  {
   "cell_type": "code",
   "execution_count": 20,
   "metadata": {},
   "outputs": [
    {
     "data": {
      "text/plain": [
       "(6, 3)"
      ]
     },
     "execution_count": 20,
     "metadata": {},
     "output_type": "execute_result"
    }
   ],
   "source": [
    "size(N)"
   ]
  },
  {
   "cell_type": "code",
   "execution_count": 21,
   "metadata": {},
   "outputs": [],
   "source": [
    "A = [ -0.7950   -2.3851   -0.9578    0.1628   -0.1628;\n",
    "      -0.1236   -0.3708   -0.8113    0.6877   -0.6877;\n",
    "      -0.5517   -1.6551    0.5935   -1.1452    1.1452;\n",
    "       0.3406    1.0219   -0.1154    0.4560   -0.4560];\n"
   ]
  },
  {
   "cell_type": "code",
   "execution_count": null,
   "metadata": {},
   "outputs": [],
   "source": []
  },
  {
   "cell_type": "code",
   "execution_count": null,
   "metadata": {},
   "outputs": [],
   "source": []
  }
 ],
 "metadata": {
  "kernelspec": {
   "display_name": "Julia 0.6.2",
   "language": "julia",
   "name": "julia-0.6"
  },
  "language_info": {
   "file_extension": ".jl",
   "mimetype": "application/julia",
   "name": "julia",
   "version": "0.6.2"
  }
 },
 "nbformat": 4,
 "nbformat_minor": 2
}
