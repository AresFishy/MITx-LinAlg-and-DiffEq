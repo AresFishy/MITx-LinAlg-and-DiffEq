{
 "cells": [
  {
   "cell_type": "code",
   "execution_count": 1,
   "metadata": {},
   "outputs": [],
   "source": [
    "using Plots\n",
    "using Distributions"
   ]
  },
  {
   "cell_type": "code",
   "execution_count": 2,
   "metadata": {},
   "outputs": [
    {
     "data": {
      "text/plain": [
       "0"
      ]
     },
     "execution_count": 2,
     "metadata": {},
     "output_type": "execute_result"
    }
   ],
   "source": [
    "2 - 6 + 4"
   ]
  },
  {
   "cell_type": "markdown",
   "metadata": {},
   "source": [
    "Properties of matrix vector multiplication\n",
    "0. For any matrix , and the zero vector 0:\n",
    "\n",
    "$$  \\mathbf{A}\\mathbf{0} = \\mathbf{0}.$$\n",
    "            \n",
    "1. For any matrix , a  scalar, and a vector x:\n",
    "\n",
    "$$  \\mathbf{A}(c\\mathbf{x}) = c(\\mathbf{A}\\mathbf{x}).$$\n",
    "\n",
    "2. For any matrix , and vectors x and y:\n",
    "\n",
    "$$  \\mathbf{A}(\\mathbf{x}+\\mathbf{y}) = \\mathbf{A}\\mathbf{x}+ \\mathbf{A}\\mathbf{y}.$$"
   ]
  },
  {
   "cell_type": "markdown",
   "metadata": {},
   "source": [
    "A matrix can also be seen as a $m\\times n$ function that maps from $\\mathbb {R}^n$ to $\\mathbb {R}^m$"
   ]
  },
  {
   "cell_type": "code",
   "execution_count": 3,
   "metadata": {},
   "outputs": [
    {
     "name": "stdout",
     "output_type": "stream",
     "text": [
      "[12, 47, 89]\n"
     ]
    }
   ],
   "source": [
    "# example A as a function from R^2 to R^3\n",
    "A = [1 2;\n",
    "     4 7;\n",
    "     8 9];\n",
    "\n",
    "v = [10; 1];\n",
    "\n",
    "println(A*v)"
   ]
  },
  {
   "cell_type": "markdown",
   "metadata": {},
   "source": [
    "Standard basis functions of $\\mathbb {R}^2$: \n",
    "\n",
    "$\\mathbf {e}_1 = \\begin{pmatrix} 1 \\\\ 0 \\end{pmatrix}$, $\\mathbf {e}_2 = \\begin{pmatrix} 0 \\\\ 1 \\end{pmatrix}$"
   ]
  },
  {
   "cell_type": "code",
   "execution_count": 4,
   "metadata": {},
   "outputs": [
    {
     "name": "stdout",
     "output_type": "stream",
     "text": [
      "[-3, 0]\n",
      "[1, 2]\n"
     ]
    }
   ],
   "source": [
    "println([-3 1; 0 2] * [1; 0]) # first basis vector\n",
    "println([-3 1; 0 2] * [0; 1]) # second basis vector"
   ]
  },
  {
   "cell_type": "code",
   "execution_count": 5,
   "metadata": {},
   "outputs": [
    {
     "name": "stdout",
     "output_type": "stream",
     "text": [
      "[-3, 0]\n",
      "[1, 2]\n"
     ]
    }
   ],
   "source": [
    "println([-3*1 + 1*0 ; 0*1 + 2*0])\n",
    "println([-3*0 + 1*1 ; 0*0 + 2*1])"
   ]
  },
  {
   "cell_type": "markdown",
   "metadata": {},
   "source": [
    "As we can see nio, the matrix $\\mathbf {A} = \\begin{pmatrix} -3 & 1 \\\\ 0 & 2 \\end{pmatrix}$ projects the standard basis functions onto its column vectors"
   ]
  },
  {
   "cell_type": "code",
   "execution_count": null,
   "metadata": {},
   "outputs": [],
   "source": []
  },
  {
   "cell_type": "raw",
   "metadata": {},
   "source": [
    "## Example: Rotation\n",
    "\n",
    "For an angle $\\theta$ there is a 2x2 matrix $\\mathbf {R}$ mapping a function that rotates each vector in $\\mathbb {R}^2$ counter-clockwise by $\\theta$\n",
    "\n",
    "![](https://prod-edxapp.edx-cdn.org/assets/courseware/v1/1bc39dfe4231ff479624eb3003bcfe50/asset-v1:MITx+18.033x+1T2018+type@asset+block/images_rotation.svg)\n",
    "\n",
    "By design, the matrix maps the vector $\\begin{pmatrix} 1 \\\\ 0 \\end{pmatrix}$ to $\\begin{pmatrix} \\cos \\theta \\\\ \\sin \\theta \\end{pmatrix}$, and $\\begin{pmatrix} 0 \\\\ 1 \\end{pmatrix}$ to $\\begin{pmatrix} -\\sin \\theta \\\\ \\cos \\theta \\end{pmatrix}$\n",
    "\n",
    "Thus, applying the reasoning we learned with matrix A above, the matrix R should be: $\\mathbf {R} = \\begin{pmatrix} \\cos \\theta & -\\sin \\theta \\\\ \\sin \\theta & \\cos \\theta \\end{pmatrix}$"
   ]
  },
  {
   "cell_type": "markdown",
   "metadata": {},
   "source": [
    "## 3D Rotation\n",
    "\n",
    "![](https://prod-edxapp.edx-cdn.org/assets/courseware/v1/56864bd095a3d6170fec29fbbe62546a/asset-v1:MITx+18.033x+1T2018+type@asset+block/images_rotating-around-z.svg)\n",
    "\n",
    "The rotation matrix for rotating the x-y plane in $\\mathbb {R}^3$ counterclockwise by angle $\\theta$ is:\n",
    "\n",
    "$\\mathbf {A} = \\begin{pmatrix} \\cos \\theta &  -\\sin \\theta &  0 \\\\ \\sin \\theta &  \\cos \\theta &  0 \\\\ 0 &  0 &  1\\end{pmatrix}$"
   ]
  },
  {
   "cell_type": "markdown",
   "metadata": {},
   "source": [
    "<img src=\"C:\\Code\\learning\\Julia\\images\\matrix_rules.png\">"
   ]
  },
  {
   "cell_type": "markdown",
   "metadata": {},
   "source": [
    "## Example: Balancing a chemical reaction\n",
    "\n",
    "Consider the following reaction: \n",
    "\n",
    "$$a\\mathrm{NO}_{2}+b\\mathrm{H}_{2}\\mathrm{O}\\longrightarrow c\\mathrm{HNO}_{2}+d\\mathrm{HNO}_{3}.$$\n",
    "\n",
    "Since we can't pull matter out of thin air, we have the constraint:\n",
    "\n",
    "$$a=c+d$$\n",
    "\n",
    "Or, $a-c-d=0$. We can then decompose the reaction into a linear system:\n",
    "\n",
    "$$\\displaystyle  a\\phantom{+2b}-\\phantom{2}c-\\phantom{3}d = \\displaystyle 0 \\qquad \\qquad \\text {(nitrogen)}$$\n",
    "\n",
    "$$\\displaystyle 2a+b-2c-3d = \\displaystyle 0 \\qquad \\qquad \\text {(oxygen)}$$\n",
    "\n",
    "$$\\displaystyle \\phantom{2a+} 2b-\\phantom{2}c-\\phantom{3}d = \\displaystyle 0 \\qquad \\qquad \\text {(hydrogen)}$$\n",
    "\n",
    "Or:\n",
    "\n",
    "$$\\underset {\\Large {{\\color{blue}{\\mathbf{A}}} }}{\\begin{pmatrix}  1 &  0 &  -1 &  -1 \\\\ 2 &  1 &  -2 &  -3 \\\\ 0 &  2 &  -1 &  -1 \\end{pmatrix}} \\underset {\\Large {{\\color{blue}{\\mathbf{x}}} }}{\\begin{pmatrix}  a \\\\ b \\\\ c \\\\ d \\end{pmatrix}} = \\underset {\\Large {{\\color{orange}{\\mathbf{b}}} }}{\\begin{pmatrix}  0 \\\\ 0 \\\\ 0 \\end{pmatrix}}$$\n",
    "\n",
    "This is a <font color='blue'>**homogeneous**</font> linear system, since we can express the righth and sides as zero, i.e. **the zero vector is a solution**\n",
    "\n",
    "After converting to echelon form, we get: \n",
    "\n",
    "$$\\displaystyle  a \\phantom{+b} -c - d \\ =  \\ 0$$\n",
    "$$\\displaystyle \\phantom{a+} b \\phantom{-c} - d \\  = \\ 0$$\n",
    "$$\\displaystyle \\phantom{a+b }-c + d \\ = \\ 0$$\n"
   ]
  },
  {
   "cell_type": "markdown",
   "metadata": {},
   "source": [
    "Since we have a free variable <font color='green'>**d**</font>, we rename it as a parameter **t**. \n",
    "\n",
    "$$ d=t$$\n",
    "$$ c=d=t$$\n",
    "$$b=d=t$$\n",
    "$$a=c+d=2t$$\n",
    "\n",
    "### Trickus!\n",
    "\n",
    "We can write this in a vector form: \n",
    "\n",
    "$$\\displaystyle \\begin{pmatrix}  a \\\\ b \\\\ c \\\\ d \\end{pmatrix} = t \\begin{pmatrix}  2 \\\\ 1 \\\\ 1 \\\\ 1\\end{pmatrix}, \\qquad \\text {where } t \\text { is any real number}.$$\n",
    "\n",
    "That means that for any ***t*** we can have a balanced chemical reaction. For $t=1$, that means \n",
    "\n",
    "$$2\\mathrm{NO}_{2}+\\mathrm{H}_{2}\\mathrm{O}\\longrightarrow \\mathrm{HNO}_{2}+\\mathrm{HNO}_{3}.$$"
   ]
  },
  {
   "cell_type": "markdown",
   "metadata": {},
   "source": [
    "## Nullspaces\n",
    "\n",
    "The set of all solution to a homogeneous linear system **Ax = 0** is called the nullspace of matrix A, or NS(A)\n",
    "\n",
    "Each variable corresponds to a column in the reduced row echelon matrix\n",
    "\n",
    "$$\\begin{array}{lcccrr} {\\color{orange}{x}}  &  \\phantom{-3/}{\\color{blue}{y}}  &  {\\color{orange}{z}}  &  \\phantom{11/}{\\color{blue}{u}}  & \\phantom{-19} {\\color{blue}{v}}  \\phantom{/6}&  {\\color{orange}{w}}  \\end{array}\\\\ \\begin{pmatrix}  {\\color{orange}{1}}  &  -3/2 &  0 &  11/6 &  -19/6 &  0 \\\\ 0 &  0 &  {\\color{orange}{1}}  &  1/3 &  -2/3 &  0 \\\\ 0 &  0 &  0 &  0 &  0 &  {\\color{orange}{1}}  \\\\ 0 &  0 &  0 &  0 &  0 &  0 \\end{pmatrix}$$\n",
    "\n",
    "The orange variables are the <font color=\"orange\">pivot variables</font>. The others are called <font color=\"blue\">free variables</font>. We express each pivot variable in terms of the free variables: \n",
    "\n",
    "$${\\color{orange}{x}} = \\displaystyle  \\frac{3}{2}{\\color{blue}{y}}  - \\frac{11}{6}{\\color{blue}{u}}  + \\frac{19}{6}{\\color{blue}{v}}  = \\frac{3}{2}c_1 - \\frac{11}{6}c_2 + \\frac{19}{6}c_3$$\n",
    "\n",
    "$$ {\\color{orange}{z}} = \\displaystyle  -\\frac{1}{3}{\\color{blue}{u}} + \\frac{2}{3} {\\color{blue}{v}}  = -\\frac{1}{3}c_2+ \\frac{2}{3} c_3$$\n",
    "\n",
    "$$ {\\color{orange}{w}} = 0$$\n",
    "\n",
    "Thus, the general solution is:\n",
    "\n",
    "$$\\begin{pmatrix}  {\\color{orange}{x}}  \\\\ {\\color{blue}{y}}  \\\\ {\\color{orange}{z}}  \\\\ {\\color{blue}{u}}  \\\\ {\\color{blue}{v}}  \\\\ {\\color{orange}{w}}  \\end{pmatrix} = \\begin{pmatrix}  \\frac{3}{2}c_1 -\\frac{11}{6}c_2 + \\frac{19}{6}c_3 \\\\ c_1 \\\\ -\\frac{1}{3}c_2 + \\frac{2}{3}c_3 \\\\ c_2 \\\\ c_3 \\\\ 0 \\end{pmatrix} = \\begin{pmatrix}  (3/2)c_1 \\\\ c_1 \\\\ 0 \\\\ 0 \\\\ 0 \\\\ 0 \\end{pmatrix} + \\begin{pmatrix}  (-11/6)c_2 \\\\ 0 \\\\ (-1/3)c_2 \\\\ c_2 \\\\ 0 \\\\ 0 \\end{pmatrix}+ \\begin{pmatrix}  (19/6)c_3 \\\\ 0 \\\\ (2/3)c_3 \\\\ 0 \\\\ c_3 \\\\ 0 \\end{pmatrix} = c_1 \\begin{pmatrix}  3/2 \\\\ 1 \\\\ 0 \\\\ 0 \\\\ 0 \\\\ 0 \\end{pmatrix} + c_2 \\begin{pmatrix}  -11/6 \\\\ 0 \\\\ -1/3 \\\\ 1 \\\\ 0 \\\\ 0 \\end{pmatrix}+ c_3 \\begin{pmatrix}  19/6 \\\\ 0 \\\\ 2/3 \\\\ 0 \\\\ 1 \\\\ 0 \\end{pmatrix}.$$\n",
    "\n",
    "\n",
    "Each of the three vectors \n",
    "\n",
    "$$\\begin{pmatrix}  3/2 \\\\ 1 \\\\ 0 \\\\ 0 \\\\ 0 \\\\ 0 \\end{pmatrix}, \\quad \\begin{pmatrix}  -11/6 \\\\ 0 \\\\ -1/3 \\\\ 1 \\\\ 0 \\\\ 0 \\end{pmatrix}, \\quad \\begin{pmatrix}  19/6 \\\\ 0 \\\\ 2/3 \\\\ 0 \\\\ 1 \\\\ 0 \\end{pmatrix}$$ \n",
    "\n",
    "is a solution to the original equation. The set of all solutions is foud by taking **all linear combinations** of these solutions\n",
    "\n"
   ]
  },
  {
   "cell_type": "markdown",
   "metadata": {},
   "source": [
    "## Quick note on geometry of linear systems\n",
    "\n",
    "The solutions to a linear equation in $\\mathbb {R}^3$ describe a plane, which is in one less dimension than the vector space. A second equation can at most decrease the solution space by one dimension (to a line). \n",
    "\n",
    "Thus if we have $m$ equations with $n$ variables, the smalles possible dimension of the solution space is $n-m$\n",
    "\n"
   ]
  },
  {
   "cell_type": "markdown",
   "metadata": {},
   "source": [
    "## Vector Spaces\n",
    "\n",
    "A <font color=\"blue\">vector space</font> of vectors over the real or complex numbers is a set V such that \n",
    "\n",
    "0.   The zero vector $\\mathbf{0}$ is in $V$.\n",
    "\n",
    "1.   Multiplying any one vector $v$ in $V$ by a scalar $c$ gives another vector $cv$ which is also in $V$\n",
    "\n",
    "2.   Adding any two vectors $v$ and $w$ in $V$ gives another vector $u=v+w$ also in $V$\n",
    "\n",
    "Points are *not* vector spaces. \n",
    "\n",
    "Functions can be thought of as vector spaces. For example, the zero function.\n"
   ]
  },
  {
   "cell_type": "markdown",
   "metadata": {},
   "source": [
    "## Subspaces\n",
    "\n",
    "E.g. top right quadrant of $\\mathbb{R}^2$ isn't a subspace, since multiplication by a negative scalar will throw your vector to one of the negative quadrants.\n",
    "\n",
    "A line through the zero vector in $\\mathbb{R}^2$ is a subspace \n",
    "\n",
    "### Subspaces of $\\mathbb{R}^2$\n",
    "\n",
    "1. All of $\\mathbb{R}^2$\n",
    "2. Any line through the zero vector\n",
    "3. The zero vector $Z$\n",
    "\n",
    "### Subspaces of $\\mathbb{R}^3$\n",
    "1. A line through the origin\n",
    "2. A plane through the origin\n",
    "3. The zero vector $Z$\n"
   ]
  },
  {
   "cell_type": "code",
   "execution_count": null,
   "metadata": {},
   "outputs": [],
   "source": []
  }
 ],
 "metadata": {
  "kernelspec": {
   "display_name": "Julia 0.6.2",
   "language": "julia",
   "name": "julia-0.6"
  },
  "language_info": {
   "file_extension": ".jl",
   "mimetype": "application/julia",
   "name": "julia",
   "version": "0.6.2"
  }
 },
 "nbformat": 4,
 "nbformat_minor": 2
}
